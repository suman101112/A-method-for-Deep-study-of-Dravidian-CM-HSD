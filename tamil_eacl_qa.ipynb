{
 "cells": [
  {
   "cell_type": "code",
   "execution_count": 1,
   "id": "young-moldova",
   "metadata": {},
   "outputs": [],
   "source": [
    "import pandas as pd\n",
    "\n",
    "df_train = pd.read_csv(\"../data/tamil data/tamil_offensive_full_train.csv\",encoding=\"utf-8\",sep=\"\\t\",usecols=[0,1])\n",
    "df_dev= pd.read_csv(\"../data/tamil data/tamil_offensive_full_dev.csv\",encoding='utf-8',sep=\"\\t\",usecols= [0,1])\n",
    "df_test = pd.read_csv(\"../data/tamil data/tamil_offensive_full_test_with_labels.csv\",encoding='utf-8',sep=\"\\t\",usecols=[0,1])\n",
    "\n",
    "train_data= df_train.values\n",
    "train_sentence = list(train_data[:,0])\n",
    "train_labels = list(train_data[:,1])\n",
    "\n",
    "dev_data = df_dev.values\n",
    "dev_sentence = list(dev_data[:,0])\n",
    "dev_labels = list(dev_data[:,1])\n",
    "\n",
    "test_data = df_test.values\n",
    "test_sentence = list(test_data[:,0])\n",
    "test_labels = list(test_data[:,1])\n",
    "\n",
    "total_sentences = []\n",
    "total_sentences.extend(train_sentence)\n",
    "total_sentences.extend(dev_sentence)\n",
    "total_sentences.extend(test_sentence)\n",
    "\n",
    "total_lables = []\n",
    "total_lables.extend(train_labels)\n",
    "total_lables.extend(dev_labels)\n",
    "total_lables.extend(test_labels)"
   ]
  },
  {
   "cell_type": "code",
   "execution_count": 2,
   "id": "satisfactory-jaguar",
   "metadata": {},
   "outputs": [
    {
     "name": "stdout",
     "output_type": "stream",
     "text": [
      "39527\n"
     ]
    }
   ],
   "source": [
    "print(len(train_labels)+len(dev_labels))"
   ]
  },
  {
   "cell_type": "code",
   "execution_count": 3,
   "id": "optical-theater",
   "metadata": {},
   "outputs": [
    {
     "name": "stdout",
     "output_type": "stream",
     "text": [
      "(43918, 55431)\n"
     ]
    }
   ],
   "source": [
    "from sklearn.feature_extraction.text import TfidfVectorizer\n",
    "\n",
    "vectorizer = TfidfVectorizer()\n",
    "X = vectorizer.fit_transform(total_sentences)\n",
    "print(X.shape)"
   ]
  },
  {
   "cell_type": "code",
   "execution_count": 4,
   "id": "abandoned-south",
   "metadata": {},
   "outputs": [],
   "source": [
    "from sklearn.metrics.pairwise import cosine_similarity\n",
    "import numpy as np\n",
    "cosine_sim = cosine_similarity(X,X)"
   ]
  },
  {
   "cell_type": "code",
   "execution_count": 5,
   "id": "animal-young",
   "metadata": {},
   "outputs": [],
   "source": [
    "sum_rows_cosine_sim = np.sum(cosine_sim,axis=1)"
   ]
  },
  {
   "cell_type": "code",
   "execution_count": 6,
   "id": "frank-administrator",
   "metadata": {},
   "outputs": [],
   "source": [
    "dict_cosine_sim = {}\n",
    "for i in range(sum_rows_cosine_sim.shape[0]):\n",
    "    dict_cosine_sim[i] = sum_rows_cosine_sim[i]\n"
   ]
  },
  {
   "cell_type": "code",
   "execution_count": 7,
   "id": "amended-smith",
   "metadata": {},
   "outputs": [],
   "source": [
    "sorted_dict = dict(sorted(dict_cosine_sim.items(), key=lambda item: item[1],reverse=True))"
   ]
  },
  {
   "cell_type": "code",
   "execution_count": 8,
   "id": "wrapped-essence",
   "metadata": {},
   "outputs": [],
   "source": [
    "import pickle\n",
    "a_file = open(\"tamil_data.pkl\", \"wb\")\n",
    "pickle.dump(sorted_dict, a_file)\n",
    "a_file.close()"
   ]
  },
  {
   "cell_type": "code",
   "execution_count": 9,
   "id": "literary-biology",
   "metadata": {},
   "outputs": [],
   "source": [
    "#import pickle\n",
    "#a_file = open(\"tamil_data.pkl\", \"rb\")\n",
    "#output = pickle.load(a_file)\n",
    "#print(output)"
   ]
  },
  {
   "cell_type": "code",
   "execution_count": 10,
   "id": "killing-outside",
   "metadata": {},
   "outputs": [],
   "source": [
    "dict_cosine_sim = {}\n",
    "for i in range(len(train_labels)+len(dev_labels),sum_rows_cosine_sim.shape[0]):\n",
    "    dict_cosine_sim[i] = sum_rows_cosine_sim[i]"
   ]
  },
  {
   "cell_type": "code",
   "execution_count": 11,
   "id": "sonic-header",
   "metadata": {},
   "outputs": [],
   "source": [
    "sorted_dict = dict(sorted(dict_cosine_sim.items(), key=lambda item: item[1],reverse=True))"
   ]
  },
  {
   "cell_type": "code",
   "execution_count": 12,
   "id": "actual-fairy",
   "metadata": {},
   "outputs": [],
   "source": [
    "from itertools import islice\n",
    "\n",
    "def take(n, iterable):\n",
    "    \"Return first n items of the iterable as a list\"\n",
    "    return list(islice(iterable, n))\n",
    "\n",
    "n_items = take(200, sorted_dict.items())"
   ]
  },
  {
   "cell_type": "code",
   "execution_count": 13,
   "id": "horizontal-things",
   "metadata": {},
   "outputs": [
    {
     "name": "stdout",
     "output_type": "stream",
     "text": [
      "[(42453, 1567.8194667506843), (43544, 1480.923071462475), (40334, 1388.9560983759056), (42146, 1384.9383333404205), (41332, 1373.9770749081551), (42840, 1366.4692614542848), (41262, 1358.7851365329134), (42773, 1355.5556002305325), (42137, 1344.442893626036), (40666, 1335.522379154057), (42545, 1304.7520507876793), (42904, 1300.463082026948), (43031, 1291.1592247317603), (40461, 1277.3130680197146), (43505, 1259.440123855701), (39857, 1251.4155212854919), (43526, 1249.5547260071912), (40430, 1242.1708757307465), (41794, 1231.3826218440706), (42498, 1230.740752315333), (43479, 1225.2253076598952), (41922, 1221.5292595918781), (41707, 1221.3805290271373), (39560, 1211.519039173981), (41484, 1204.8888075059233), (42839, 1196.765658228691), (41305, 1190.7574759327065), (40374, 1186.0276451987195), (40663, 1186.0276451987195), (41998, 1181.2769987392953), (40778, 1177.899532847292), (43451, 1175.3987466069266), (40618, 1171.442405548797), (39540, 1153.2732273687077), (42852, 1146.3099565161574), (41641, 1143.8243022551255), (42268, 1140.8173108608983), (41846, 1137.702073448213), (42385, 1136.023570349815), (42223, 1135.758808922363), (43281, 1132.787393805348), (40949, 1128.148984009422), (42892, 1127.5165202157762), (42236, 1125.491065768), (41962, 1119.9157556612574), (40771, 1119.622991218454), (42290, 1118.1635778835725), (42746, 1114.241375861684), (40959, 1113.6745032455058), (42563, 1113.0931270631631), (42984, 1111.8871293328893), (42373, 1108.5806928054656), (42699, 1105.2469250795077), (41171, 1094.4847213759626), (39708, 1091.4633065924836), (42474, 1085.2753427925734), (41004, 1082.964771502122), (42230, 1082.6856644249613), (42883, 1080.2946561639162), (40986, 1077.5727908786696), (41465, 1073.5880145903286), (42004, 1072.8923457340868), (43227, 1071.3869090562728), (41835, 1071.2668070133584), (40067, 1056.864385650621), (39905, 1055.9923508621162), (39698, 1055.1603122556407), (42062, 1055.1426801618586), (41316, 1051.695132957679), (42339, 1047.7526165130812), (42502, 1046.6395695229594), (41176, 1046.460565116868), (43554, 1046.3235815849848), (39958, 1046.1143317332674), (42362, 1045.1994655715669), (41573, 1043.8873732080283), (41762, 1043.4002677336427), (40185, 1039.3967003201028), (39563, 1038.2634724340662), (41632, 1037.30881970364), (39529, 1032.3394145629018), (43347, 1032.0197770564532), (40450, 1027.6502888522764), (41285, 1026.4921571347206), (42594, 1023.68259958206), (42035, 1022.4456751674358), (42073, 1022.1465879157042), (40834, 1021.6005544075525), (43150, 1013.3640265654601), (42144, 1011.9571156201998), (41233, 1011.0871491460737), (39877, 1010.7593466250077), (41676, 1010.7593466250077), (39844, 1009.4470999813517), (39806, 1007.4028240414477), (42829, 1007.1513070911578), (43681, 1006.443367770345), (43236, 1005.5475508423087), (40094, 1005.0796447602024), (41530, 1004.5089935327698), (43005, 1003.5035749602534), (43337, 1002.1530976215628), (43750, 1000.3301192494141), (42100, 998.9872145269896), (42038, 993.4483599067338), (41420, 991.4157508059641), (39871, 988.5959685401929), (39990, 987.5767391586772), (39737, 984.9784581894769), (40013, 983.2297832866539), (39544, 983.225052471435), (40253, 980.9802765795208), (39770, 977.6116014509196), (42160, 973.855651123233), (41636, 972.728061575323), (42140, 970.4463609234687), (42456, 969.8373524942314), (43147, 967.99632644217), (42176, 965.9382471875647), (43006, 963.2309330851742), (40347, 962.3927891970308), (42369, 962.3927891970308), (41494, 962.1741568484632), (43247, 962.1741568484632), (40004, 961.4523145167127), (43453, 961.3968898616482), (42306, 959.0081577819844), (43143, 958.2340867863346), (43511, 951.8190137023089), (42683, 950.6190728295776), (43100, 947.7144724623042), (40584, 947.338723048984), (40313, 944.0990173601946), (41030, 942.2302772723087), (40356, 940.807621947902), (40881, 939.5084655072291), (39903, 939.1404861497639), (43205, 938.6701582908785), (42480, 936.8012238587349), (42051, 933.1782918679469), (43034, 930.6768437529911), (40676, 930.5780798390603), (41407, 930.3194729025296), (42857, 927.5371430655309), (41183, 924.5573738734137), (41663, 924.5399468910006), (41237, 924.2176022555775), (40287, 922.818889159732), (40073, 922.3303266841918), (43815, 922.3303266841918), (41393, 919.286556329177), (40789, 919.1633610432774), (43133, 916.7768351449567), (41996, 915.1010710472127), (42153, 914.5315489224332), (40245, 914.3414740501144), (42515, 911.3964030533476), (40254, 910.9983352188812), (42758, 910.0154794253788), (43398, 907.3167321223733), (40675, 906.6696470509714), (40140, 905.3422014309663), (43739, 905.0891191965802), (42720, 902.3832961934843), (39890, 898.9826307335474), (42906, 898.3468436621312), (42643, 896.9430370510834), (40549, 894.4429715495937), (42092, 894.3122293662078), (42464, 894.0942196472084), (42548, 891.7249263334828), (42896, 891.7004466158741), (40973, 890.6726359912318), (39627, 890.3441550342001), (43055, 889.8871762116061), (41621, 888.8314379042695), (40809, 888.0547794022727), (41064, 887.6246039435623), (40429, 887.4933672328568), (41011, 886.6996595510665), (42987, 884.3543802286335), (41353, 883.0318044785088), (42506, 883.0226820460068), (40290, 882.8063729771953), (42047, 881.9767283103832), (43185, 881.7484725301847), (42718, 878.3821813441871), (42080, 878.2033999891408), (40508, 875.5017527591447), (43417, 874.8755572432501), (43201, 874.2825501628998), (43350, 871.9376315692147), (39879, 868.5673426771881), (40428, 867.941077786579), (41059, 867.6194211701736), (42222, 867.3596809347667), (43572, 865.5841734095419), (39881, 865.3682555532603), (42203, 864.305084123929), (40056, 863.1629567728662)]\n"
     ]
    }
   ],
   "source": [
    "print(n_items)"
   ]
  },
  {
   "cell_type": "code",
   "execution_count": 14,
   "id": "affected-possibility",
   "metadata": {},
   "outputs": [],
   "source": [
    "dict_key_dissmilar={}\n",
    "\n",
    "for key,value in n_items:\n",
    "    similar_values = cosine_sim[key]\n",
    "    count_dissimilar_labels = 0\n",
    "    count_similar_labels=0\n",
    "    key_label = total_lables[key]\n",
    "    for i in range(len(similar_values)):\n",
    "        if cosine_sim[key][i]>0:\n",
    "            if key_label == total_lables[i]:\n",
    "                count_similar_labels+=1\n",
    "            else:\n",
    "                count_dissimilar_labels+=1\n",
    "        diff = count_dissimilar_labels-count_similar_labels\n",
    "        dict_key_dissmilar[key] = diff\n"
   ]
  },
  {
   "cell_type": "code",
   "execution_count": 15,
   "id": "stretch-plastic",
   "metadata": {},
   "outputs": [
    {
     "name": "stdout",
     "output_type": "stream",
     "text": [
      "{43205: 6604, 41762: 6398, 42223: 5848, 41233: 5728, 41707: 5665, 40254: 5489, 39958: 5464, 41393: 5371, 42896: 5280, 42984: 4839, 42773: 4699, 40334: 4695, 40676: -3557, 42080: -3635, 39627: -3719, 43681: -3816, 39879: -3832, 41962: -3847, 40450: -3856, 43034: -3910, 42453: -3912, 43544: -3912, 42840: -3921, 41636: -3922, 41494: -3927, 43247: -3927, 42904: -3929, 43453: -3930, 42594: -3938, 40618: -3962, 41285: -3963, 41420: -3964, 39905: -3965, 43750: -3968, 41835: -3973, 42643: -3977, 39806: -3985, 40666: -3988, 39990: -3993, 42545: -3996, 43526: -4004, 39544: -4004, 41004: -4008, 39877: -4027, 41676: -4027, 41998: -4028, 42146: -4030, 40778: -4032, 42035: -4037, 43281: -4041, 40809: -4046, 40429: -4047, 42047: -4047, 42100: -4054, 42474: -4057, 40508: -4059, 40374: -4066, 40663: -4066, 43347: -4067, 42718: -4069, 42464: -4071, 40073: -4075, 43815: -4075, 43147: -4078, 40347: -4079, 42369: -4079, 43350: -4080, 40834: -4083, 41262: -4085, 40140: -4093, 43005: -4094, 40949: -4102, 42062: -4102, 41332: -4107, 43451: -4107, 39563: -4113, 42222: -4118, 42892: -4124, 40549: -4124, 43479: -4132, 41465: -4132, 41573: -4134, 42073: -4134, 39737: -4134, 41484: -4147, 42306: -4149, 41922: -4153, 42176: -4153, 43417: -4157, 40067: -4162, 42230: -4173, 40461: -4174, 40004: -4176, 39540: -4179, 43185: -4185, 39871: -4188, 42699: -4222, 42683: -4222, 42515: -4229, 41641: -4234, 43572: -4237, 39708: -4246, 39881: -4247, 42236: -4250, 43236: -4255, 42987: -4275, 40253: -4276, 40771: -4278, 41846: -4294, 41171: -4294, 43031: -4301, 42548: -4305, 41353: -4324, 42456: -4331, 41663: -4378, 41530: -4382, 43150: -4390, 42203: -4411, 43739: -4421, 42498: -4424, 43511: -4439, 40675: -4453, 39698: -4456, 42153: -4456, 41237: -4468, 42502: -4470, 40428: -4482, 43398: -4483, 41621: -4486, 40584: -4489, 42140: -4491, 41183: -4501, 43006: -4504, 39770: -4506, 42092: -4507, 43143: -4513, 40245: -4529, 42268: -4535, 39844: -4550, 41794: -4555, 43100: -4585, 43337: -4589, 42829: -4591, 42385: -4596, 42160: -4603, 42137: -4613, 42004: -4613, 41064: -4619, 43505: -4623, 42290: -4634, 40959: -4652, 42746: -4656, 43227: -4663, 42480: -4718, 39857: -4752, 40881: -4819, 43133: -4936, 42906: -4972, 43055: -4985, 42038: -5001, 40094: -5119, 40356: -5177, 41407: -5225, 42373: -5248, 39903: -5263, 40287: -5278, 40056: -5347, 41176: -5353, 40789: -5356, 42883: -5399, 42362: -5449, 41996: -5455, 43201: -5496, 40986: -5555, 42563: -5619, 39529: -5638, 42758: -5671, 41011: -5703, 41030: -5710, 40013: -5736, 42339: -5759, 40430: -5794, 39560: -5808, 40973: -5827, 40185: -5882, 42720: -5937, 41059: -5969, 42852: -5977, 39890: -6006, 41305: -6033, 43554: -6061, 42051: -6073, 42506: -6144, 41316: -6245, 40290: -6552, 40313: -6742, 41632: -6907, 42839: -6968, 42857: -7113, 42144: -7460}\n"
     ]
    }
   ],
   "source": [
    "sorted_key_dict = dict(sorted(dict_key_dissmilar.items(), key=lambda item: item[1],reverse=True))\n",
    "print(sorted_key_dict)"
   ]
  },
  {
   "cell_type": "code",
   "execution_count": 17,
   "id": "distinct-owner",
   "metadata": {},
   "outputs": [],
   "source": [
    "n_key_items = take(50, sorted_key_dict.items())"
   ]
  },
  {
   "cell_type": "code",
   "execution_count": 18,
   "id": "ordinary-warning",
   "metadata": {},
   "outputs": [
    {
     "name": "stdout",
     "output_type": "stream",
     "text": [
      "43205 [('Not_offensive', 5894), ('Offensive_Targeted_Insult_Group', 813), ('Offensive_Untargetede', 157), ('Offensive_Targeted_Insult_Other', 87), ('not-Tamil', 6)]\n",
      "41762 [('Not_offensive', 6536), ('Offensive_Targeted_Insult_Individual', 366), ('Offensive_Untargetede', 198), ('not-Tamil', 101), ('Offensive_Targeted_Insult_Other', 81)]\n",
      "42223 [('Not_offensive', 6147), ('Offensive_Targeted_Insult_Individual', 346), ('Offensive_Untargetede', 145), ('Offensive_Targeted_Insult_Other', 93), ('not-Tamil', 3)]\n",
      "41233 [('Not_offensive', 6040), ('Offensive_Targeted_Insult_Individual', 329), ('Offensive_Untargetede', 133), ('Offensive_Targeted_Insult_Other', 84), ('not-Tamil', 3)]\n",
      "41707 [('Not_offensive', 5942), ('Offensive_Targeted_Insult_Individual', 328), ('Offensive_Untargetede', 143), ('Offensive_Targeted_Insult_Other', 90), ('not-Tamil', 2)]\n",
      "40254 [('Not_offensive', 5820), ('Offensive_Targeted_Insult_Individual', 292), ('Offensive_Untargetede', 126), ('Offensive_Targeted_Insult_Other', 80), ('not-Tamil', 2)]\n",
      "39958 [('Not_offensive', 5803), ('Offensive_Targeted_Insult_Individual', 284), ('Offensive_Untargetede', 136), ('Offensive_Targeted_Insult_Other', 75), ('not-Tamil', 3)]\n",
      "41393 [('Not_offensive', 5658), ('Offensive_Targeted_Insult_Individual', 283), ('Offensive_Untargetede', 157), ('Offensive_Targeted_Insult_Other', 81), ('not-Tamil', 27)]\n",
      "42896 [('Not_offensive', 5591), ('Offensive_Targeted_Insult_Individual', 279), ('Offensive_Untargetede', 118), ('Offensive_Targeted_Insult_Other', 81), ('not-Tamil', 2)]\n",
      "42984 [('Not_offensive', 5171), ('Offensive_Targeted_Insult_Individual', 212), ('Offensive_Untargetede', 92), ('Offensive_Targeted_Insult_Other', 56), ('not-Tamil', 2)]\n",
      "42773 [('Not_offensive', 5031), ('Offensive_Targeted_Insult_Individual', 187), ('Offensive_Untargetede', 86), ('Offensive_Targeted_Insult_Other', 58), ('not-Tamil', 2)]\n",
      "40334 [('Not_offensive', 5027), ('Offensive_Targeted_Insult_Individual', 191), ('Offensive_Untargetede', 84), ('Offensive_Targeted_Insult_Other', 54), ('not-Tamil', 2)]\n"
     ]
    }
   ],
   "source": [
    "from collections import Counter\n",
    "dict_key_dissmilar_label_count={}\n",
    "for key,value in n_key_items:\n",
    "    dissimilar_labels=[]\n",
    "    similar_values = cosine_sim[key]\n",
    "    key_label = total_lables[key]\n",
    "    if value>0:\n",
    "        for i in range(len(similar_values)):\n",
    "            if cosine_sim[key][i]>0:\n",
    "                if key_label != total_lables[i]:\n",
    "                    dissimilar_labels.append(total_lables[i])\n",
    "        counted = Counter(dissimilar_labels)\n",
    "        most_common_counts = counted.most_common()\n",
    "        dict_key_dissmilar_label_count[key] = most_common_counts\n",
    "    \n",
    "for key,value in dict_key_dissmilar_label_count.items():\n",
    "    print(key,value)"
   ]
  },
  {
   "cell_type": "code",
   "execution_count": 20,
   "id": "alpha-branch",
   "metadata": {},
   "outputs": [
    {
     "name": "stdout",
     "output_type": "stream",
     "text": [
      "Offensive_Targeted_Insult_Individual\n",
      "Offensive_Targeted_Insult_Group\n",
      "Offensive_Targeted_Insult_Group\n",
      "Offensive_Targeted_Insult_Group\n",
      "Offensive_Targeted_Insult_Group\n",
      "Offensive_Targeted_Insult_Group\n",
      "Offensive_Targeted_Insult_Group\n",
      "Offensive_Targeted_Insult_Group\n",
      "Offensive_Targeted_Insult_Group\n",
      "Offensive_Targeted_Insult_Group\n",
      "Offensive_Targeted_Insult_Group\n",
      "Offensive_Targeted_Insult_Group\n"
     ]
    }
   ],
   "source": [
    "for key,value in n_key_items:\n",
    "    if value>0:\n",
    "        print(total_lables[key])"
   ]
  },
  {
   "cell_type": "code",
   "execution_count": 23,
   "id": "muslim-usage",
   "metadata": {},
   "outputs": [],
   "source": [
    "qa_data = []\n",
    "qa_labels=[]\n",
    "for key,value in n_key_items:\n",
    "    if value>0:\n",
    "        qa_data.append(total_sentences[key])\n",
    "        qa_labels.append(total_lables[key])"
   ]
  },
  {
   "cell_type": "code",
   "execution_count": 24,
   "id": "leading-sauce",
   "metadata": {},
   "outputs": [],
   "source": [
    "qa_df = pd.DataFrame(zip(qa_data,qa_labels),columns=['qa_data','qa_labels'])\n",
    "qa_df.to_csv('tamil_eacl_qa.tsv',sep='\\t',index=None)"
   ]
  },
  {
   "cell_type": "code",
   "execution_count": null,
   "id": "chinese-motion",
   "metadata": {},
   "outputs": [],
   "source": []
  }
 ],
 "metadata": {
  "kernelspec": {
   "display_name": "py3_env",
   "language": "python",
   "name": "py3_env"
  },
  "language_info": {
   "codemirror_mode": {
    "name": "ipython",
    "version": 3
   },
   "file_extension": ".py",
   "mimetype": "text/x-python",
   "name": "python",
   "nbconvert_exporter": "python",
   "pygments_lexer": "ipython3",
   "version": "3.6.12"
  }
 },
 "nbformat": 4,
 "nbformat_minor": 5
}
