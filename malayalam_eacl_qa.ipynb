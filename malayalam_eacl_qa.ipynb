{
 "cells": [
  {
   "cell_type": "code",
   "execution_count": 1,
   "id": "swiss-christianity",
   "metadata": {},
   "outputs": [],
   "source": [
    "import pandas as pd"
   ]
  },
  {
   "cell_type": "code",
   "execution_count": 2,
   "id": "included-sessions",
   "metadata": {},
   "outputs": [
    {
     "name": "stdout",
     "output_type": "stream",
     "text": [
      "<class 'pandas.core.frame.DataFrame'>\n",
      "Int64Index: 2000 entries, 0 to 1999\n",
      "Data columns (total 2 columns):\n",
      " #   Column                                                       Non-Null Count  Dtype \n",
      "---  ------                                                       --------------  ----- \n",
      " 0   അപ്പൊ ഇതൊരൊന്നൊരാ മൊതലാണല്ലേ  Suraj ആണ് നടൻ ന്ന് തോന്നുന്നു  2000 non-null   object\n",
      " 1   Not_offensive                                                2000 non-null   object\n",
      "dtypes: object(2)\n",
      "memory usage: 46.9+ KB\n",
      "None\n",
      "16010 1999 2000  total =  20009\n",
      "{'Not_offensive', 'not-malayalam', 'Offensive_Targeted_Insult_Group', 'Offensive_Untargetede', 'Offensive_Targeted_Insult_Individual'}\n",
      "{'Not_offensive', 'not-malayalam', 'Offensive_Untargetede', 'Offensive_Targeted_Insult_Individual', 'Offensive_Targeted_Insult_Group'}\n",
      "{'Not_offensive', 'not-malayalam', 'Offensive_Untargetede', 'Offensive_Targeted_Insult_Individual', 'Offensive_Targeted_Insult_Group'}\n"
     ]
    }
   ],
   "source": [
    "df_eacl_mal_train = pd.read_csv(\"../data/mal data/mal_full_offensive_train.csv\",encoding=\"utf-8\",sep=\"\\t\",usecols=[0,1])\n",
    "df_eacl_mal_dev = pd.read_csv(\"../data/mal data/mal_full_offensive_dev.csv\",encoding=\"utf-8\",sep=\"\\t\",usecols=[0,1])\n",
    "df_eacl_mal_test = pd.read_csv(\"../data/mal data/mal_full_offensive_test_with_labels.csv\",encoding=\"utf-8\",sep=\"\\t\",usecols=[0,1])\n",
    "\n",
    "df_eacl_mal_train = df_eacl_mal_train.dropna()\n",
    "df_eacl_mal_dev = df_eacl_mal_dev.dropna()\n",
    "df_eacl_mal_test = df_eacl_mal_test.dropna()\n",
    "\n",
    "print(df_eacl_mal_test.info())\n",
    "\n",
    "eacl_mal_train_sentences = list(df_eacl_mal_train['text'].values)\n",
    "eacl_mal_train_labels = list(df_eacl_mal_train['label'].values)\n",
    "\n",
    "eacl_mal_dev_sentences = list(df_eacl_mal_dev['text'].values)\n",
    "eacl_mal_dev_labels = list(df_eacl_mal_dev['label'].values)\n",
    "\n",
    "eacl_mal_test_sentences = list(df_eacl_mal_test.values[:,0])\n",
    "eacl_mal_test_labels = list(df_eacl_mal_test.values[:,1])\n",
    "\n",
    "x_train = eacl_mal_train_sentences\n",
    "y_train = eacl_mal_train_labels\n",
    "\n",
    "x_dev = eacl_mal_dev_sentences\n",
    "y_dev = eacl_mal_dev_labels\n",
    "\n",
    "x_test = eacl_mal_test_sentences\n",
    "y_test = eacl_mal_test_labels\n",
    "\n",
    "print(len(x_train),len(x_dev),len(x_test),\" total = \",len(x_train)+len(x_dev)+len(x_test))\n",
    "\n",
    "print(set(eacl_mal_train_labels))\n",
    "print(set(eacl_mal_dev_labels))\n",
    "print(set(eacl_mal_test_labels))\n",
    "\n",
    "total_sentences = []\n",
    "total_sentences.extend(eacl_mal_train_sentences)\n",
    "total_sentences.extend(eacl_mal_dev_sentences)\n",
    "total_sentences.extend(eacl_mal_test_sentences)\n",
    "\n",
    "total_labels = []\n",
    "total_labels.extend(eacl_mal_train_labels)\n",
    "total_labels.extend(eacl_mal_dev_labels)\n",
    "total_labels.extend(eacl_mal_test_labels)"
   ]
  },
  {
   "cell_type": "code",
   "execution_count": 3,
   "id": "deluxe-spectacular",
   "metadata": {},
   "outputs": [
    {
     "name": "stdout",
     "output_type": "stream",
     "text": [
      "(20009, 23826)\n"
     ]
    }
   ],
   "source": [
    "from sklearn.feature_extraction.text import TfidfVectorizer\n",
    "\n",
    "vectorizer = TfidfVectorizer()\n",
    "X = vectorizer.fit_transform(total_sentences)\n",
    "print(X.shape)"
   ]
  },
  {
   "cell_type": "code",
   "execution_count": 4,
   "id": "right-immunology",
   "metadata": {},
   "outputs": [],
   "source": [
    "from sklearn.metrics.pairwise import cosine_similarity\n",
    "import numpy as np\n",
    "cosine_sim = cosine_similarity(X,X)"
   ]
  },
  {
   "cell_type": "code",
   "execution_count": 5,
   "id": "hearing-procurement",
   "metadata": {},
   "outputs": [],
   "source": [
    "sum_rows_cosine_sim = np.sum(cosine_sim,axis=1)"
   ]
  },
  {
   "cell_type": "code",
   "execution_count": 6,
   "id": "valued-counter",
   "metadata": {},
   "outputs": [],
   "source": [
    "dict_cosine_sim = {}\n",
    "for i in range(sum_rows_cosine_sim.shape[0]):\n",
    "    dict_cosine_sim[i] = sum_rows_cosine_sim[i]\n"
   ]
  },
  {
   "cell_type": "code",
   "execution_count": 7,
   "id": "athletic-nightlife",
   "metadata": {},
   "outputs": [],
   "source": [
    "sorted_dict = dict(sorted(dict_cosine_sim.items(), key=lambda item: item[1],reverse=True))"
   ]
  },
  {
   "cell_type": "code",
   "execution_count": 8,
   "id": "heard-terrorist",
   "metadata": {},
   "outputs": [],
   "source": [
    "dict_cosine_sim = {}\n",
    "for i in range(len(y_train)+len(y_dev),sum_rows_cosine_sim.shape[0]):\n",
    "    dict_cosine_sim[i] = sum_rows_cosine_sim[i]"
   ]
  },
  {
   "cell_type": "code",
   "execution_count": 9,
   "id": "polar-italian",
   "metadata": {},
   "outputs": [],
   "source": [
    "sorted_dict = dict(sorted(dict_cosine_sim.items(), key=lambda item: item[1],reverse=True))"
   ]
  },
  {
   "cell_type": "code",
   "execution_count": 10,
   "id": "spoken-joshua",
   "metadata": {},
   "outputs": [],
   "source": [
    "from itertools import islice\n",
    "\n",
    "def take(n, iterable):\n",
    "    \"Return first n items of the iterable as a list\"\n",
    "    return list(islice(iterable, n))\n",
    "\n",
    "n_items = take(200, sorted_dict.items())"
   ]
  },
  {
   "cell_type": "code",
   "execution_count": 11,
   "id": "absolute-framing",
   "metadata": {},
   "outputs": [
    {
     "name": "stdout",
     "output_type": "stream",
     "text": [
      "[(19305, 515.699381754824), (19457, 515.699381754824), (19820, 515.699381754824), (18291, 461.41674303750847), (18385, 457.74798046294075), (18981, 456.54222355278694), (18626, 443.6476614538725), (18614, 442.1282699389809), (18886, 441.8608997591772), (19486, 438.40739553512566), (18480, 436.4534270056293), (19525, 434.2763797907662), (18525, 432.42538480989776), (19227, 426.34841896660305), (18294, 423.43437328341173), (19218, 419.4509302164013), (18422, 406.24212923471066), (18124, 405.2668270501923), (18236, 405.2668270501923), (18920, 405.2668270501923), (19152, 397.48110660530165), (19335, 396.7054869603914), (18101, 396.00357511612935), (19367, 396.00357511612935), (18826, 395.38359201928165), (19720, 393.15309401165223), (18552, 390.0846980411259), (19671, 389.0486326696663), (19761, 388.6577041715983), (18214, 387.25437955013217), (18239, 384.30125409656506), (18798, 382.67380808914015), (18446, 382.3174327329308), (18321, 380.61607813663454), (19613, 379.2595968146383), (19042, 377.4358139371688), (18220, 374.42992202195705), (19741, 374.0287583283972), (18112, 373.98792574011014), (18508, 373.8864140418858), (18852, 372.3725242324242), (19300, 372.340053132142), (18728, 369.5733390155021), (18818, 368.1926549394508), (19962, 366.6468353851981), (19718, 364.8470752780055), (19179, 363.457942491792), (19281, 363.0062183790182), (18317, 362.0438053601465), (18474, 361.76688217625355), (19060, 360.9434457355589), (19643, 357.1752183894195), (18845, 356.86394390620393), (19314, 356.6810194386828), (18487, 354.81857956644467), (19935, 354.50291953862984), (18069, 354.4064874611413), (19488, 351.15057719798506), (19755, 347.4762957465301), (18904, 347.4691741885149), (19400, 345.9784205684051), (19492, 345.71463465977195), (19094, 345.59436204445944), (18997, 342.42527368573974), (19746, 342.1474369658715), (18210, 341.895069843734), (18049, 337.9440174246047), (19420, 337.00145299711374), (19677, 336.34304491904936), (18292, 335.7700972839991), (18338, 335.60973163210326), (18043, 335.2468222055464), (18393, 335.2468222055464), (19839, 334.746678008019), (18090, 333.84703983083375), (18429, 332.14972384554744), (19959, 330.0669074861677), (19055, 329.0374771816913), (18196, 327.20210366084206), (18827, 323.79233623034816), (19568, 323.26170365724914), (18615, 321.8926929579703), (19259, 320.3178766767528), (19885, 319.242275260682), (19346, 318.1691511743776), (19522, 315.5601071751827), (19710, 314.4955849832125), (19287, 313.9429650830615), (19542, 313.4832252677194), (18606, 311.96387677666627), (19168, 310.6283490254104), (19356, 308.86044058419054), (18253, 307.67800672706323), (19448, 307.5907542549468), (18388, 307.11878357042383), (19255, 307.0262245272941), (19670, 306.99029401017947), (19899, 305.2156719586428), (19777, 305.1646339253863), (19229, 304.25079255117146), (19997, 303.57364208011955), (18547, 303.51636582372134), (19049, 302.3722658423205), (18759, 302.1891451207663), (18985, 301.37240374356634), (18176, 300.9495641436147), (18537, 300.1957923964965), (18436, 300.05745826923965), (19083, 299.7414069469752), (19360, 299.60387390175833), (18656, 298.44835272630337), (19684, 298.3941495798195), (19814, 297.1879937415496), (18255, 296.9297065594902), (18107, 296.8086935333087), (18336, 295.03441679580635), (19957, 294.9159657306698), (18823, 292.03133942514796), (18944, 291.8069755432379), (18794, 291.755774627268), (18621, 291.48091467716597), (18726, 290.89457790283313), (18441, 290.8147885749846), (18276, 290.2360147874931), (18460, 289.89810576938885), (19026, 289.856849812456), (19481, 289.6657384438081), (19784, 289.596990927372), (19739, 288.8717615057564), (18789, 288.4500658112318), (19908, 286.96831584219285), (19578, 285.77074140936315), (19576, 285.7134064386132), (19267, 284.1718936183563), (19588, 283.446856389084), (19941, 283.36049624533564), (18496, 283.00536778825744), (19897, 282.6021013531473), (19158, 280.31099643073856), (18284, 279.5047082296438), (18677, 279.12946329862376), (19598, 278.1489105873237), (18592, 277.27316917904506), (19491, 276.5841396789686), (18269, 275.96542149844765), (18157, 275.8750958129429), (19639, 275.54021984128894), (19511, 275.3481589430046), (19460, 274.9851056115675), (19882, 274.5953401230225), (19280, 274.3737282790282), (19703, 274.27930478771776), (19128, 274.1823452811018), (19953, 273.89023848654085), (19873, 273.7917227309242), (19531, 273.4778778872397), (19610, 272.1971219916064), (18268, 271.6569165785997), (19317, 270.9529176663375), (18560, 270.80055081689807), (19627, 270.13295794812586), (19232, 269.9701744501882), (19442, 269.2321836936436), (19831, 269.07246842553974), (19632, 267.53645896957846), (19122, 266.5764594327284), (18575, 266.46225502097764), (19920, 266.28669561884607), (19751, 265.87595585761636), (18839, 265.44627885537955), (18235, 264.98783385333473), (18070, 264.5599260237427), (19290, 262.4883438999642), (19971, 262.2581697892734), (18028, 261.8855902352545), (18975, 261.8855902352545), (19063, 261.8203669869165), (19782, 261.8203669869165), (18655, 261.79076225190005), (19527, 261.67228745421573), (18602, 261.32726633609803), (18494, 260.78152465497675), (19950, 260.1926216989951), (19936, 260.0398165983795), (18594, 259.5175202013071), (18974, 259.46973442875594), (19191, 258.8613043959937), (18515, 258.57075011394454), (19520, 257.77618116164183), (19104, 257.6984654971001), (18740, 257.6567415589473), (19500, 257.53736762567576), (18102, 256.89983942170124), (18785, 256.89638070453736), (19641, 256.89638070453736), (19798, 256.84121151942156), (19656, 254.59076772607605), (18129, 253.98045410851998), (18935, 253.83510734201278), (18335, 253.1651899915577)]\n"
     ]
    }
   ],
   "source": [
    "print(n_items)"
   ]
  },
  {
   "cell_type": "code",
   "execution_count": 12,
   "id": "sexual-archive",
   "metadata": {},
   "outputs": [],
   "source": [
    "dict_key_dissmilar={}\n",
    "\n",
    "for key,value in n_items:\n",
    "    similar_values = cosine_sim[key]\n",
    "    count_dissimilar_labels = 0\n",
    "    count_similar_labels=0\n",
    "    key_label = total_labels[key]\n",
    "    for i in range(len(similar_values)):\n",
    "        if cosine_sim[key][i]>0:\n",
    "            if key_label == total_labels[i]:\n",
    "                count_similar_labels+=1\n",
    "            else:\n",
    "                count_dissimilar_labels+=1\n",
    "        diff = count_dissimilar_labels-count_similar_labels\n",
    "        dict_key_dissmilar[key] = diff"
   ]
  },
  {
   "cell_type": "code",
   "execution_count": 13,
   "id": "funky-guide",
   "metadata": {},
   "outputs": [
    {
     "name": "stdout",
     "output_type": "stream",
     "text": [
      "{18321: 3671, 19798: 3279, 19460: 2234, 18594: 2002, 18839: 1973, 19527: 1885, 19280: 1549, 19255: 1453, 19677: -1250, 19063: -1411, 19782: -1411, 19542: -1473, 19232: -1693, 18944: -1812, 19511: -1820, 19448: -1827, 19656: -1834, 19908: -1850, 19104: -1860, 18276: -1866, 18284: -1953, 18759: -1970, 19598: -1980, 19356: -2028, 19026: -2035, 18494: -2057, 19267: -2076, 18268: -2136, 19568: -2138, 18935: -2139, 19360: -2177, 18235: -2192, 18107: -2215, 18239: -2223, 19814: -2231, 18129: -2267, 19882: -2268, 19042: -2270, 18515: -2276, 19627: -2285, 18255: -2286, 19442: -2301, 19920: -2347, 19083: -2364, 19179: -2376, 18487: -2394, 19158: -2396, 18102: -2412, 19191: -2414, 19305: -2428, 19457: -2428, 19820: -2428, 18886: -2446, 19751: -2469, 19287: -2470, 18974: -2475, 19873: -2483, 18602: -2487, 18606: -2499, 18422: -2531, 19670: -2541, 19290: -2553, 18496: -2559, 18726: -2602, 19227: -2622, 18728: -2642, 19899: -2642, 18474: -2658, 19957: -2673, 19588: -2674, 19522: -2677, 19746: -2683, 19300: -2686, 19531: -2696, 19152: -2711, 19839: -2716, 18827: -2718, 19632: -2776, 19420: -2781, 18985: -2798, 18508: -2800, 18317: -2833, 19950: -2838, 19684: -2853, 18269: -2882, 19936: -2904, 19997: -2908, 19346: -2910, 19500: -2917, 18220: -2922, 18294: -2926, 19481: -2937, 19520: -2950, 19128: -2962, 19610: -2986, 18043: -2990, 18393: -2990, 18575: -2992, 19739: -3005, 18818: -3015, 19897: -3019, 18537: -3024, 19229: -3036, 18560: -3042, 19962: -3053, 19281: -3073, 18292: -3083, 18852: -3098, 19335: -3130, 19885: -3133, 18101: -3134, 19367: -3134, 18336: -3170, 18049: -3171, 19578: -3177, 18740: -3181, 19492: -3183, 18090: -3184, 18823: -3188, 18291: -3205, 19971: -3208, 18124: -3218, 18236: -3218, 18920: -3218, 18253: -3220, 19953: -3225, 18335: -3231, 18157: -3235, 19935: -3244, 18904: -3244, 18388: -3249, 19094: -3255, 18429: -3262, 18070: -3266, 18385: -3276, 18441: -3280, 18552: -3312, 19218: -3351, 19122: -3373, 19576: -3377, 19491: -3392, 18069: -3393, 18656: -3406, 18196: -3424, 18655: -3434, 18176: -3449, 18626: -3462, 18446: -3479, 19959: -3496, 18845: -3512, 18785: -3513, 19641: -3513, 19777: -3521, 19831: -3533, 19613: -3534, 18621: -3549, 19941: -3550, 19049: -3556, 19060: -3581, 18826: -3588, 18981: -3595, 18592: -3618, 19755: -3649, 18214: -3680, 19703: -3731, 18436: -3738, 19671: -3761, 19314: -3823, 19168: -3842, 19784: -3848, 19317: -3863, 19488: -3898, 19639: -3907, 19259: -3958, 19718: -3980, 19741: -3998, 18460: -4004, 18794: -4042, 18112: -4044, 18338: -4079, 19400: -4149, 18614: -4150, 19055: -4210, 18789: -4283, 18798: -4435, 18210: -4546, 19720: -4657, 18480: -4749, 18615: -4760, 19710: -4787, 18028: -4890, 18975: -4890, 18547: -4944, 18997: -5032, 18677: -5205, 19643: -5327, 19486: -5460, 19761: -5618, 19525: -5825, 18525: -6724}\n"
     ]
    }
   ],
   "source": [
    "sorted_key_dict = dict(sorted(dict_key_dissmilar.items(), key=lambda item: item[1],reverse=True))\n",
    "print(sorted_key_dict)"
   ]
  },
  {
   "cell_type": "code",
   "execution_count": 14,
   "id": "solid-bible",
   "metadata": {},
   "outputs": [],
   "source": [
    "n_key_items = take(100, sorted_key_dict.items())"
   ]
  },
  {
   "cell_type": "code",
   "execution_count": 15,
   "id": "afraid-market",
   "metadata": {},
   "outputs": [
    {
     "name": "stdout",
     "output_type": "stream",
     "text": [
      "18321 [('Not_offensive', 3665), ('Offensive_Untargetede', 33), ('Offensive_Targeted_Insult_Group', 32)]\n",
      "19798 [('Not_offensive', 3278), ('Offensive_Untargetede', 38), ('Offensive_Targeted_Insult_Group', 31)]\n",
      "19460 [('Not_offensive', 2607), ('Offensive_Targeted_Insult_Group', 45), ('Offensive_Untargetede', 23), ('Offensive_Targeted_Insult_Individual', 9)]\n",
      "18594 [('Not_offensive', 2349), ('Offensive_Targeted_Insult_Group', 39), ('Offensive_Untargetede', 22), ('Offensive_Targeted_Insult_Individual', 10)]\n",
      "18839 [('Not_offensive', 2332), ('Offensive_Targeted_Insult_Group', 39), ('Offensive_Untargetede', 25), ('Offensive_Targeted_Insult_Individual', 19)]\n",
      "19527 [('Not_offensive', 2337), ('Offensive_Targeted_Insult_Group', 41), ('Offensive_Untargetede', 28), ('Offensive_Targeted_Insult_Individual', 21)]\n",
      "19280 [('Not_offensive', 2012), ('Offensive_Untargetede', 7), ('Offensive_Targeted_Insult_Group', 6), ('Offensive_Targeted_Insult_Individual', 6)]\n",
      "19255 [('Not_offensive', 1951), ('Offensive_Targeted_Insult_Group', 36), ('Offensive_Untargetede', 11), ('Offensive_Targeted_Insult_Individual', 8)]\n"
     ]
    }
   ],
   "source": [
    "from collections import Counter\n",
    "dict_key_dissmilar_label_count={}\n",
    "for key,value in n_key_items:\n",
    "    dissimilar_labels=[]\n",
    "    similar_values = cosine_sim[key]\n",
    "    key_label = total_labels[key]\n",
    "    if value>0:\n",
    "        for i in range(len(similar_values)):\n",
    "            if cosine_sim[key][i]>0:\n",
    "                if key_label != total_labels[i]:\n",
    "                    dissimilar_labels.append(total_labels[i])\n",
    "        counted = Counter(dissimilar_labels)\n",
    "        most_common_counts = counted.most_common()\n",
    "        dict_key_dissmilar_label_count[key] = most_common_counts\n",
    "    \n",
    "for key,value in dict_key_dissmilar_label_count.items():\n",
    "    print(key,value)"
   ]
  },
  {
   "cell_type": "code",
   "execution_count": 18,
   "id": "cooked-france",
   "metadata": {},
   "outputs": [],
   "source": [
    "qa_data = []\n",
    "qa_labels=[]\n",
    "for key,value in n_key_items:\n",
    "    if value >0:\n",
    "        qa_data.append(total_sentences[key])\n",
    "        qa_labels.append(total_labels[key])\n",
    "    \n",
    "qa_df = pd.DataFrame(zip(qa_data,qa_labels),columns=['qa_data','qa_labels'])\n",
    "qa_df.to_csv('malayalam_eacl_qa.tsv',sep='\\t',index=None)"
   ]
  },
  {
   "cell_type": "code",
   "execution_count": null,
   "id": "flying-camera",
   "metadata": {},
   "outputs": [],
   "source": []
  }
 ],
 "metadata": {
  "kernelspec": {
   "display_name": "py3_env",
   "language": "python",
   "name": "py3_env"
  },
  "language_info": {
   "codemirror_mode": {
    "name": "ipython",
    "version": 3
   },
   "file_extension": ".py",
   "mimetype": "text/x-python",
   "name": "python",
   "nbconvert_exporter": "python",
   "pygments_lexer": "ipython3",
   "version": "3.6.12"
  }
 },
 "nbformat": 4,
 "nbformat_minor": 5
}
