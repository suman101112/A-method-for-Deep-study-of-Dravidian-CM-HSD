{
 "cells": [
  {
   "cell_type": "code",
   "execution_count": 1,
   "id": "sapphire-adams",
   "metadata": {},
   "outputs": [
    {
     "name": "stdout",
     "output_type": "stream",
     "text": [
      "<class 'pandas.core.frame.DataFrame'>\n",
      "Int64Index: 6216 entries, 0 to 6215\n",
      "Data columns (total 2 columns):\n",
      " #   Column                                                                                  Non-Null Count  Dtype \n",
      "---  ------                                                                                  --------------  ----- \n",
      " 0   Tik tok alli jagala madtidralla adra baggenu ondu video madi anna super agi ugididdira  6216 non-null   object\n",
      " 1   Not_offensive                                                                           6216 non-null   object\n",
      "dtypes: object(2)\n",
      "memory usage: 145.7+ KB\n",
      "None\n",
      "6216 776 777  total =  7769\n",
      "{'Offensive_Untargetede', 'not-Kannada', 'Not_offensive', 'Offensive_Targeted_Insult_Other', 'Offensive_Targeted_Insult_Individual', 'Offensive_Targeted_Insult_Group'}\n",
      "{'not-Kannada', 'Offensive_Targeted_Insult_Other', 'Not_offensive', 'Offensive_Targeted_Insult_Group', 'Offensive_Targeted_Insult_Individual', 'Offensive_Untargetede'}\n",
      "{'not-Kannada', 'Offensive_Targeted_Insult_Other', 'Not_offensive', 'Offensive_Targeted_Insult_Group', 'Offensive_Targeted_Insult_Individual', 'Offensive_Untargetede'}\n"
     ]
    },
    {
     "data": {
      "text/plain": [
       "Counter({'not-Kannada': 1898,\n",
       "         'Not_offensive': 4395,\n",
       "         'Offensive_Targeted_Insult_Group': 417,\n",
       "         'Offensive_Targeted_Insult_Other': 153,\n",
       "         'Offensive_Targeted_Insult_Individual': 628,\n",
       "         'Offensive_Untargetede': 278})"
      ]
     },
     "execution_count": 1,
     "metadata": {},
     "output_type": "execute_result"
    }
   ],
   "source": [
    "import pandas as pd\n",
    "\n",
    "df_eacl_kannada_train = pd.read_csv(\"../data/kannada data/kannada_offensive_train.csv\",encoding=\"utf-8\",sep=\"\\t\",usecols=[0,1])\n",
    "df_eacl_kannada_dev = pd.read_csv(\"../data/kannada data/kannada_offensive_dev.csv\",encoding=\"utf-8\",sep=\"\\t\",usecols=[0,1])\n",
    "df_eacl_kannada_test = pd.read_csv(\"../data/kannada data/kannada_offensive_test_with_labels.csv\",encoding=\"utf-8\",sep=\"\\t\",usecols=[0,1])\n",
    "\n",
    "df_eacl_kannada_train = df_eacl_kannada_train.dropna()\n",
    "df_eacl_kannada_dev = df_eacl_kannada_dev.dropna()\n",
    "df_eacl_kannada_test = df_eacl_kannada_test.dropna()\n",
    "\n",
    "print(df_eacl_kannada_train.info())\n",
    "\n",
    "eacl_kannada_train_sentences = list(df_eacl_kannada_train.values[:,0])\n",
    "eacl_kannada_train_labels = list(df_eacl_kannada_train.values[:,1])\n",
    "\n",
    "eacl_kannada_dev_sentences = list(df_eacl_kannada_dev.values[:,0])\n",
    "eacl_kannada_dev_labels = list(df_eacl_kannada_dev.values[:,1])\n",
    "\n",
    "eacl_kannada_test_sentences = list(df_eacl_kannada_test.values[:,0])\n",
    "eacl_kannada_test_labels = list(df_eacl_kannada_test.values[:,1])\n",
    "\n",
    "x_train = eacl_kannada_train_sentences\n",
    "y_train = eacl_kannada_train_labels\n",
    "\n",
    "x_dev = eacl_kannada_dev_sentences\n",
    "y_dev = eacl_kannada_dev_labels\n",
    "\n",
    "x_test = eacl_kannada_test_sentences\n",
    "y_test = eacl_kannada_test_labels\n",
    "\n",
    "print(len(x_train),len(x_dev),len(x_test),\" total = \",len(x_train)+len(x_dev)+len(x_test))\n",
    "\n",
    "print(set(eacl_kannada_train_labels))\n",
    "print(set(eacl_kannada_dev_labels))\n",
    "print(set(eacl_kannada_test_labels))\n",
    "\n",
    "total_sentences = []\n",
    "total_sentences.extend(x_train)\n",
    "total_sentences.extend(x_dev)\n",
    "total_sentences.extend(x_test)\n",
    "\n",
    "total_labels = []\n",
    "total_labels.extend(eacl_kannada_train_labels)\n",
    "total_labels.extend(eacl_kannada_dev_labels)\n",
    "total_labels.extend(eacl_kannada_test_labels)\n",
    "\n",
    "from collections import Counter\n",
    "Counter(total_labels)"
   ]
  },
  {
   "cell_type": "code",
   "execution_count": 2,
   "id": "accredited-tract",
   "metadata": {},
   "outputs": [
    {
     "name": "stdout",
     "output_type": "stream",
     "text": [
      "(7769, 12860)\n"
     ]
    }
   ],
   "source": [
    "from sklearn.feature_extraction.text import TfidfVectorizer\n",
    "\n",
    "vectorizer = TfidfVectorizer()\n",
    "X = vectorizer.fit_transform(total_sentences)\n",
    "print(X.shape)"
   ]
  },
  {
   "cell_type": "code",
   "execution_count": 3,
   "id": "orange-montgomery",
   "metadata": {},
   "outputs": [],
   "source": [
    "from sklearn.metrics.pairwise import cosine_similarity\n",
    "import numpy as np\n",
    "cosine_sim = cosine_similarity(X,X)"
   ]
  },
  {
   "cell_type": "code",
   "execution_count": 4,
   "id": "studied-value",
   "metadata": {},
   "outputs": [],
   "source": [
    "sum_rows_cosine_sim = np.sum(cosine_sim,axis=1)"
   ]
  },
  {
   "cell_type": "code",
   "execution_count": 5,
   "id": "instant-powell",
   "metadata": {},
   "outputs": [],
   "source": [
    "dict_cosine_sim = {}\n",
    "for i in range(len(y_train)+len(y_dev),sum_rows_cosine_sim.shape[0]):\n",
    "    dict_cosine_sim[i] = sum_rows_cosine_sim[i]"
   ]
  },
  {
   "cell_type": "code",
   "execution_count": 6,
   "id": "negative-perspective",
   "metadata": {},
   "outputs": [],
   "source": [
    "sorted_dict = dict(sorted(dict_cosine_sim.items(), key=lambda item: item[1],reverse=True))"
   ]
  },
  {
   "cell_type": "code",
   "execution_count": 7,
   "id": "removed-transfer",
   "metadata": {},
   "outputs": [],
   "source": [
    "from itertools import islice\n",
    "\n",
    "def take(n, iterable):\n",
    "    \"Return first n items of the iterable as a list\"\n",
    "    return list(islice(iterable, n))\n",
    "\n",
    "n_items = take(200, sorted_dict.items())"
   ]
  },
  {
   "cell_type": "code",
   "execution_count": 8,
   "id": "fatty-consolidation",
   "metadata": {},
   "outputs": [],
   "source": [
    "dict_key_dissmilar={}\n",
    "\n",
    "for key,value in n_items:\n",
    "    similar_values = cosine_sim[key]\n",
    "    count_dissimilar_labels = 0\n",
    "    count_similar_labels=0\n",
    "    key_label = total_labels[key]\n",
    "    if value > 0:\n",
    "        for i in range(len(similar_values)):\n",
    "            if cosine_sim[key][i]>0:\n",
    "                if key_label == total_labels[i]:\n",
    "                    count_similar_labels+=1\n",
    "                else:\n",
    "                    count_dissimilar_labels+=1\n",
    "        diff = count_dissimilar_labels-count_similar_labels\n",
    "        dict_key_dissmilar[key] = diff\n"
   ]
  },
  {
   "cell_type": "code",
   "execution_count": 9,
   "id": "agricultural-object",
   "metadata": {},
   "outputs": [
    {
     "name": "stdout",
     "output_type": "stream",
     "text": [
      "{7479: 1806, 7524: 895, 7197: 714, 7003: 637, 7433: 613, 7357: 545, 7156: 492, 7717: 491, 7157: 482, 7641: 482, 7277: 439, 7023: 427, 7312: 413, 6994: 406, 7072: 406, 7103: 406, 7110: 406, 7179: 406, 7620: 405, 7616: 397, 7229: 394, 7763: 393, 7475: 383, 7230: 382, 7242: 382, 7188: 382, 7725: 370, 7582: 353, 7443: 352, 7280: 341, 7591: 341, 7429: 338, 7177: 334, 7273: 334, 7278: 334, 7351: 334, 7580: 334, 7196: 319, 7613: 318, 7313: 313, 7090: 282, 7726: 274, 7465: 263, 7419: 256, 7381: 244, 7662: 244, 7151: 243, 7374: 237, 7311: 234, 7371: 234, 7087: 233, 7514: 233, 7590: 233, 7669: 233, 7508: 229, 7399: 228, 7275: 220, 7416: 220, 7041: 211, 7306: 207, 7133: 204, 7307: 204, 7766: 197, 7331: 196, 7618: 188, 7645: 185, 7123: 185, 7497: 173, 7245: 171, 7218: 114, 7251: 105, 7745: 91, 7742: 90, 7302: 89, 7660: 53, 7361: 52, 7267: 25, 7265: 25, 7448: 21, 7058: 12, 7030: -5, 7125: -61, 7405: -62, 7585: -80, 7694: -84, 7289: -99, 7614: -111, 7001: -120, 7392: -123, 7195: -129, 7509: -129, 7081: -131, 7258: -133, 7466: -135, 7495: -142, 7209: -144, 7456: -145, 7494: -146, 7056: -146, 7356: -148, 7259: -153, 6999: -154, 7628: -155, 7096: -155, 7709: -155, 7455: -159, 7014: -162, 7193: -163, 7706: -168, 7552: -169, 7544: -171, 7500: -171, 7350: -173, 7128: -173, 7043: -174, 7032: -175, 7294: -179, 7143: -182, 7406: -184, 7201: -184, 7191: -196, 7250: -198, 7749: -198, 7073: -201, 7697: -208, 7650: -212, 7611: -213, 7328: -215, 6993: -216, 7576: -218, 7748: -219, 7286: -220, 7027: -222, 7226: -224, 7521: -225, 7376: -226, 7754: -226, 7120: -227, 7266: -230, 7231: -231, 7562: -234, 7268: -237, 7412: -239, 7074: -239, 7138: -239, 7244: -239, 7446: -239, 7434: -240, 7561: -242, 7018: -244, 7366: -246, 7346: -249, 7418: -249, 7119: -251, 7761: -253, 7690: -257, 7115: -260, 7426: -278, 7570: -283, 7610: -288, 7627: -288, 7292: -290, 7053: -299, 7085: -299, 7462: -299, 7424: -299, 7473: -299, 7489: -299, 7683: -299, 7720: -299, 7005: -303, 7632: -303, 7637: -317, 7699: -317, 7037: -322, 7178: -322, 7291: -322, 7319: -322, 7325: -322, 7367: -322, 7449: -322, 7558: -322, 7578: -326, 7560: -328, 7701: -330, 7137: -331, 7493: -332, 7428: -357, 7532: -359, 7568: -363, 7529: -369, 7453: -386, 7507: -408, 7519: -497, 7435: -509, 7652: -547, 7545: -569, 7264: -621, 7450: -645, 7510: -772}\n"
     ]
    }
   ],
   "source": [
    "sorted_key_dict = dict(sorted(dict_key_dissmilar.items(), key=lambda item: item[1],reverse=True))\n",
    "print(sorted_key_dict)"
   ]
  },
  {
   "cell_type": "code",
   "execution_count": 10,
   "id": "homeless-communist",
   "metadata": {},
   "outputs": [],
   "source": [
    "n_key_items = take(50, sorted_key_dict.items())"
   ]
  },
  {
   "cell_type": "code",
   "execution_count": 11,
   "id": "damaged-boston",
   "metadata": {},
   "outputs": [],
   "source": [
    "from collections import Counter\n",
    "dict_key_dissmilar_label_count={}\n",
    "for key,value in n_key_items:\n",
    "    dissimilar_labels=[]\n",
    "    similar_values = cosine_sim[key]\n",
    "    key_label = total_labels[key]\n",
    "    for i in range(len(similar_values)):\n",
    "        if cosine_sim[key][i]>0:\n",
    "            if key_label != total_labels[i]:\n",
    "                dissimilar_labels.append(total_labels[i])\n",
    "    counted = Counter(dissimilar_labels)\n",
    "    most_common_counts = counted.most_common()\n",
    "    dict_key_dissmilar_label_count[key] = most_common_counts"
   ]
  },
  {
   "cell_type": "code",
   "execution_count": 12,
   "id": "needed-insider",
   "metadata": {},
   "outputs": [
    {
     "name": "stdout",
     "output_type": "stream",
     "text": [
      "7479 [('Not_offensive', 1065), ('not-Kannada', 594), ('Offensive_Targeted_Insult_Group', 67), ('Offensive_Targeted_Insult_Individual', 62), ('Offensive_Untargetede', 45)]\n",
      "7524 [('Not_offensive', 835), ('Offensive_Targeted_Insult_Individual', 69), ('Offensive_Untargetede', 56), ('Offensive_Targeted_Insult_Other', 24), ('not-Kannada', 5)]\n",
      "7197 [('Not_offensive', 591), ('Offensive_Targeted_Insult_Group', 55), ('Offensive_Targeted_Insult_Individual', 39), ('Offensive_Untargetede', 38), ('not-Kannada', 4)]\n",
      "7003 [('Not_offensive', 347), ('not-Kannada', 233), ('Offensive_Targeted_Insult_Group', 46), ('Offensive_Targeted_Insult_Individual', 25), ('Offensive_Targeted_Insult_Other', 16)]\n",
      "7433 [('Not_offensive', 514), ('not-Kannada', 51), ('Offensive_Targeted_Insult_Group', 36), ('Offensive_Untargetede', 28), ('Offensive_Targeted_Insult_Other', 9)]\n",
      "7357 [('Not_offensive', 1041), ('Offensive_Targeted_Insult_Group', 38), ('Offensive_Targeted_Insult_Individual', 36), ('Offensive_Untargetede', 27), ('Offensive_Targeted_Insult_Other', 13)]\n",
      "7156 [('Not_offensive', 962), ('Offensive_Targeted_Insult_Group', 47), ('Offensive_Targeted_Insult_Individual', 30), ('Offensive_Untargetede', 24), ('Offensive_Targeted_Insult_Other', 18)]\n",
      "7717 [('Not_offensive', 245), ('not-Kannada', 210), ('Offensive_Targeted_Insult_Individual', 23), ('Offensive_Targeted_Insult_Group', 15), ('Offensive_Targeted_Insult_Other', 10)]\n",
      "7157 [('Not_offensive', 991), ('Offensive_Targeted_Insult_Group', 44), ('Offensive_Targeted_Insult_Individual', 40), ('Offensive_Untargetede', 26), ('Offensive_Targeted_Insult_Other', 21)]\n",
      "7641 [('Not_offensive', 991), ('Offensive_Targeted_Insult_Group', 44), ('Offensive_Targeted_Insult_Individual', 40), ('Offensive_Untargetede', 26), ('Offensive_Targeted_Insult_Other', 21)]\n",
      "7277 [('Not_offensive', 892), ('Offensive_Targeted_Insult_Group', 35), ('Offensive_Targeted_Insult_Individual', 32), ('Offensive_Untargetede', 25), ('Offensive_Targeted_Insult_Other', 12)]\n",
      "7023 [('Not_offensive', 804), ('Offensive_Targeted_Insult_Group', 49), ('Offensive_Untargetede', 33), ('Offensive_Targeted_Insult_Individual', 29), ('Offensive_Targeted_Insult_Other', 18)]\n",
      "7312 [('Not_offensive', 847), ('Offensive_Targeted_Insult_Individual', 28), ('Offensive_Targeted_Insult_Group', 26), ('Offensive_Untargetede', 20), ('Offensive_Targeted_Insult_Other', 8)]\n",
      "6994 [('Not_offensive', 832), ('Offensive_Targeted_Insult_Individual', 28), ('Offensive_Targeted_Insult_Group', 26), ('Offensive_Untargetede', 20), ('Offensive_Targeted_Insult_Other', 8)]\n",
      "7072 [('Not_offensive', 832), ('Offensive_Targeted_Insult_Individual', 28), ('Offensive_Targeted_Insult_Group', 26), ('Offensive_Untargetede', 20), ('Offensive_Targeted_Insult_Other', 8)]\n",
      "7103 [('Not_offensive', 832), ('Offensive_Targeted_Insult_Individual', 28), ('Offensive_Targeted_Insult_Group', 26), ('Offensive_Untargetede', 20), ('Offensive_Targeted_Insult_Other', 8)]\n",
      "7110 [('Not_offensive', 832), ('Offensive_Targeted_Insult_Individual', 28), ('Offensive_Targeted_Insult_Group', 26), ('Offensive_Untargetede', 20), ('Offensive_Targeted_Insult_Other', 8)]\n",
      "7179 [('Not_offensive', 832), ('Offensive_Targeted_Insult_Individual', 28), ('Offensive_Targeted_Insult_Group', 26), ('Offensive_Untargetede', 20), ('Offensive_Targeted_Insult_Other', 8)]\n",
      "7620 [('Not_offensive', 833), ('Offensive_Targeted_Insult_Individual', 28), ('Offensive_Targeted_Insult_Group', 26), ('Offensive_Untargetede', 20), ('Offensive_Targeted_Insult_Other', 8)]\n",
      "7616 [('Not_offensive', 807), ('Offensive_Targeted_Insult_Group', 44), ('Offensive_Untargetede', 30), ('Offensive_Targeted_Insult_Individual', 29), ('Offensive_Targeted_Insult_Other', 18)]\n",
      "7229 [('Not_offensive', 771), ('Offensive_Targeted_Insult_Group', 44), ('Offensive_Untargetede', 29), ('Offensive_Targeted_Insult_Individual', 28), ('Offensive_Targeted_Insult_Other', 18)]\n",
      "7763 [('Not_offensive', 770), ('Offensive_Targeted_Insult_Group', 44), ('Offensive_Untargetede', 29), ('Offensive_Targeted_Insult_Individual', 28), ('Offensive_Targeted_Insult_Other', 18)]\n",
      "7475 [('Not_offensive', 824), ('Offensive_Targeted_Insult_Group', 31), ('Offensive_Targeted_Insult_Individual', 20), ('Offensive_Untargetede', 16), ('Offensive_Targeted_Insult_Other', 11)]\n",
      "7230 [('Not_offensive', 823), ('Offensive_Targeted_Insult_Group', 31), ('Offensive_Targeted_Insult_Individual', 20), ('Offensive_Untargetede', 16), ('Offensive_Targeted_Insult_Other', 11)]\n",
      "7242 [('Not_offensive', 823), ('Offensive_Targeted_Insult_Group', 31), ('Offensive_Targeted_Insult_Individual', 20), ('Offensive_Untargetede', 16), ('Offensive_Targeted_Insult_Other', 11)]\n",
      "7188 [('Not_offensive', 858), ('Offensive_Targeted_Insult_Group', 33), ('Offensive_Targeted_Insult_Individual', 22), ('Offensive_Untargetede', 18), ('Offensive_Targeted_Insult_Other', 12)]\n",
      "7725 [('Not_offensive', 338), ('Offensive_Targeted_Insult_Group', 24), ('Offensive_Untargetede', 12), ('Offensive_Targeted_Insult_Other', 6), ('not-Kannada', 2)]\n",
      "7582 [('Not_offensive', 395), ('Offensive_Targeted_Insult_Group', 34), ('Offensive_Untargetede', 25), ('not-Kannada', 8), ('Offensive_Targeted_Insult_Other', 6)]\n",
      "7443 [('Not_offensive', 785), ('Offensive_Targeted_Insult_Individual', 39), ('Offensive_Targeted_Insult_Group', 37), ('Offensive_Untargetede', 22), ('Offensive_Targeted_Insult_Other', 16)]\n",
      "7280 [('Not_offensive', 502), ('Offensive_Targeted_Insult_Group', 37), ('Offensive_Targeted_Insult_Individual', 33), ('Offensive_Untargetede', 31), ('Offensive_Targeted_Insult_Other', 17)]\n",
      "7591 [('Not_offensive', 802), ('Offensive_Targeted_Insult_Group', 39), ('Offensive_Targeted_Insult_Individual', 37), ('Offensive_Untargetede', 21), ('Offensive_Targeted_Insult_Other', 10)]\n",
      "7429 [('Not_offensive', 784), ('Offensive_Targeted_Insult_Individual', 34), ('Offensive_Targeted_Insult_Group', 32), ('Offensive_Untargetede', 20), ('Offensive_Targeted_Insult_Other', 16)]\n",
      "7177 [('Not_offensive', 777), ('Offensive_Targeted_Insult_Individual', 33), ('Offensive_Targeted_Insult_Group', 31), ('Offensive_Untargetede', 19), ('Offensive_Targeted_Insult_Other', 16)]\n",
      "7273 [('Not_offensive', 777), ('Offensive_Targeted_Insult_Individual', 33), ('Offensive_Targeted_Insult_Group', 31), ('Offensive_Untargetede', 19), ('Offensive_Targeted_Insult_Other', 16)]\n",
      "7278 [('Not_offensive', 777), ('Offensive_Targeted_Insult_Individual', 33), ('Offensive_Targeted_Insult_Group', 31), ('Offensive_Untargetede', 19), ('Offensive_Targeted_Insult_Other', 16)]\n",
      "7351 [('Not_offensive', 777), ('Offensive_Targeted_Insult_Individual', 33), ('Offensive_Targeted_Insult_Group', 31), ('Offensive_Untargetede', 19), ('Offensive_Targeted_Insult_Other', 16)]\n",
      "7580 [('Not_offensive', 777), ('Offensive_Targeted_Insult_Individual', 33), ('Offensive_Targeted_Insult_Group', 31), ('Offensive_Untargetede', 19), ('Offensive_Targeted_Insult_Other', 16)]\n",
      "7196 [('Not_offensive', 538), ('Offensive_Targeted_Insult_Group', 47), ('Offensive_Targeted_Insult_Individual', 22), ('Offensive_Untargetede', 17), ('Offensive_Targeted_Insult_Other', 9)]\n",
      "7613 [('Not_offensive', 706), ('Offensive_Targeted_Insult_Individual', 31), ('Offensive_Targeted_Insult_Group', 28), ('Offensive_Untargetede', 14), ('Offensive_Targeted_Insult_Other', 7)]\n",
      "7313 [('Not_offensive', 673), ('Offensive_Targeted_Insult_Group', 24), ('Offensive_Targeted_Insult_Individual', 15), ('Offensive_Untargetede', 11), ('Offensive_Targeted_Insult_Other', 8)]\n",
      "7090 [('Not_offensive', 678), ('Offensive_Targeted_Insult_Group', 22), ('Offensive_Targeted_Insult_Individual', 17), ('Offensive_Untargetede', 13), ('Offensive_Targeted_Insult_Other', 8)]\n",
      "7726 [('Not_offensive', 655), ('Offensive_Targeted_Insult_Individual', 32), ('Offensive_Targeted_Insult_Group', 23), ('Offensive_Untargetede', 11), ('Offensive_Targeted_Insult_Other', 6)]\n",
      "7465 [('Not_offensive', 645), ('Offensive_Targeted_Insult_Individual', 30), ('Offensive_Targeted_Insult_Group', 24), ('Offensive_Untargetede', 11), ('Offensive_Targeted_Insult_Other', 6)]\n",
      "7419 [('Not_offensive', 624), ('Offensive_Targeted_Insult_Group', 20), ('Offensive_Targeted_Insult_Individual', 15), ('Offensive_Untargetede', 10), ('Offensive_Targeted_Insult_Other', 6)]\n",
      "7381 [('Not_offensive', 626), ('Offensive_Targeted_Insult_Group', 18), ('Offensive_Targeted_Insult_Individual', 11), ('Offensive_Untargetede', 9), ('Offensive_Targeted_Insult_Other', 6)]\n",
      "7662 [('Not_offensive', 626), ('Offensive_Targeted_Insult_Group', 18), ('Offensive_Targeted_Insult_Individual', 11), ('Offensive_Untargetede', 9), ('Offensive_Targeted_Insult_Other', 6)]\n",
      "7151 [('Not_offensive', 297), ('Offensive_Targeted_Insult_Group', 39), ('Offensive_Untargetede', 23), ('not-Kannada', 7), ('Offensive_Targeted_Insult_Other', 6)]\n",
      "7374 [('Not_offensive', 409), ('Offensive_Targeted_Insult_Group', 19), ('Offensive_Targeted_Insult_Individual', 14), ('Offensive_Untargetede', 7), ('Offensive_Targeted_Insult_Other', 5)]\n",
      "7311 [('Not_offensive', 613), ('Offensive_Targeted_Insult_Group', 19), ('Offensive_Targeted_Insult_Individual', 11), ('Offensive_Untargetede', 9), ('Offensive_Targeted_Insult_Other', 7)]\n",
      "7371 [('Not_offensive', 606), ('Offensive_Targeted_Insult_Group', 18), ('Offensive_Targeted_Insult_Individual', 11), ('Offensive_Untargetede', 9), ('Offensive_Targeted_Insult_Other', 6)]\n"
     ]
    }
   ],
   "source": [
    "for key,value in dict_key_dissmilar_label_count.items():\n",
    "    print(key,value)"
   ]
  },
  {
   "cell_type": "code",
   "execution_count": 13,
   "id": "downtown-activation",
   "metadata": {},
   "outputs": [],
   "source": [
    "qa_data = []\n",
    "qa_labels=[]\n",
    "for key,value in n_key_items:\n",
    "    if value>0:\n",
    "        qa_data.append(total_sentences[key])\n",
    "        qa_labels.append(total_labels[key])"
   ]
  },
  {
   "cell_type": "code",
   "execution_count": 14,
   "id": "italic-sequence",
   "metadata": {},
   "outputs": [],
   "source": [
    "qa_df = pd.DataFrame(zip(qa_data,qa_labels),columns=['qa_data','qa_labels'])\n",
    "qa_df.to_csv('kannada_eacl_qa.tsv',sep='\\t',index=None)"
   ]
  },
  {
   "cell_type": "code",
   "execution_count": null,
   "id": "combined-arlington",
   "metadata": {},
   "outputs": [],
   "source": []
  }
 ],
 "metadata": {
  "kernelspec": {
   "display_name": "py3_env",
   "language": "python",
   "name": "py3_env"
  },
  "language_info": {
   "codemirror_mode": {
    "name": "ipython",
    "version": 3
   },
   "file_extension": ".py",
   "mimetype": "text/x-python",
   "name": "python",
   "nbconvert_exporter": "python",
   "pygments_lexer": "ipython3",
   "version": "3.6.12"
  }
 },
 "nbformat": 4,
 "nbformat_minor": 5
}
