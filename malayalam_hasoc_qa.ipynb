{
 "cells": [
  {
   "cell_type": "code",
   "execution_count": 48,
   "id": "designed-pharmacy",
   "metadata": {},
   "outputs": [],
   "source": [
    "import pandas as pd\n",
    "from sklearn.model_selection import train_test_split"
   ]
  },
  {
   "cell_type": "code",
   "execution_count": 36,
   "id": "robust-water",
   "metadata": {},
   "outputs": [
    {
     "name": "stdout",
     "output_type": "stream",
     "text": [
      "<class 'pandas.core.frame.DataFrame'>\n",
      "Index: 3999 entries, MA_YT001 to MA_YT4000\n",
      "Data columns (total 2 columns):\n",
      " #   Column  Non-Null Count  Dtype \n",
      "---  ------  --------------  ----- \n",
      " 0   Tweets  3999 non-null   object\n",
      " 1   Labels  3999 non-null   object\n",
      "dtypes: object(2)\n",
      "memory usage: 93.7+ KB\n",
      "None\n",
      "<class 'pandas.core.frame.DataFrame'>\n",
      "Int64Index: 950 entries, 0 to 949\n",
      "Data columns (total 3 columns):\n",
      " #   Column                                Non-Null Count  Dtype \n",
      "---  ------                                --------------  ----- \n",
      " 0   MA_YT5000                             950 non-null    object\n",
      " 1   Chenkol vendath thanne aayirunnu....  950 non-null    object\n",
      " 2   NOT                                   950 non-null    object\n",
      "dtypes: object(3)\n",
      "memory usage: 29.7+ KB\n",
      "None\n",
      "2999 1000 950  total =  4949\n"
     ]
    },
    {
     "data": {
      "text/plain": [
       "Counter({'NOT': 2519, 'OFF': 2430})"
      ]
     },
     "execution_count": 36,
     "metadata": {},
     "output_type": "execute_result"
    }
   ],
   "source": [
    "df_fire_hasoc_ml_train = pd.read_excel(\"../data/malayalam hasoc/Malayalam_offensive_data_Training-YT.xlsx\",index_col=0)\n",
    "df_fire_hasoc_ml_train = df_fire_hasoc_ml_train.dropna()\n",
    "\n",
    "print(df_fire_hasoc_ml_train.info())\n",
    "\n",
    "fire_hasoc_ml_train_sentences = df_fire_hasoc_ml_train.values[:,0]\n",
    "fire_hasoc_ml_train_labels = df_fire_hasoc_ml_train.values[:,1]\n",
    "\n",
    "labels_list = list(set(fire_hasoc_ml_train_labels))\n",
    "\n",
    "df_fire_hasoc_ml_test = pd.read_csv(\"../data/malayalam hasoc/malayalam_hasoc_tanglish_test_withlabels.tsv\",sep=\"\\t\")\n",
    "df_fire_hasoc_ml_test = df_fire_hasoc_ml_test.dropna()\n",
    "\n",
    "print(df_fire_hasoc_ml_test.info())\n",
    "fire_hasoc_ml_test_sentences = df_fire_hasoc_ml_test.values[:,-2]\n",
    "fire_hasoc_ml_test_labels = df_fire_hasoc_ml_test.values[:,-1]\n",
    "\n",
    "\n",
    "x_train,x_dev,y_train,y_dev = train_test_split(fire_hasoc_ml_train_sentences,fire_hasoc_ml_train_labels,test_size=0.25, random_state=42)\n",
    "\n",
    "new_fire_hasoc_ml_test_sentences=[]\n",
    "\n",
    "for item in fire_hasoc_ml_test_sentences:\n",
    "    if \"\\t\" not in item:\n",
    "        new_fire_hasoc_ml_test_sentences.append(item)\n",
    "    else:\n",
    "        values = item.split(\"\\t\")\n",
    "        new_fire_hasoc_ml_test_sentences.append(values[-1])\n",
    "fire_hasoc_ml_test_sentences = new_fire_hasoc_ml_test_sentences\n",
    "\n",
    "x_test = fire_hasoc_ml_test_sentences\n",
    "y_test = fire_hasoc_ml_test_labels\n",
    "\n",
    "\n",
    "\n",
    "print(len(x_train),len(x_dev),len(x_test),\" total = \",len(x_train)+len(x_dev)+len(x_test))\n",
    "\n",
    "total_sentences = []\n",
    "total_sentences.extend(fire_hasoc_ml_train_sentences)\n",
    "total_sentences.extend(fire_hasoc_ml_test_sentences)\n",
    "\n",
    "total_labels = []\n",
    "total_labels.extend(fire_hasoc_ml_train_labels)\n",
    "total_labels.extend(fire_hasoc_ml_test_labels)\n",
    "\n",
    "from collections import Counter\n",
    "Counter(total_labels)"
   ]
  },
  {
   "cell_type": "code",
   "execution_count": 37,
   "id": "choice-sweden",
   "metadata": {},
   "outputs": [
    {
     "name": "stdout",
     "output_type": "stream",
     "text": [
      "(4949, 22682)\n"
     ]
    }
   ],
   "source": [
    "from sklearn.feature_extraction.text import TfidfVectorizer\n",
    "\n",
    "vectorizer = TfidfVectorizer()\n",
    "X = vectorizer.fit_transform(total_sentences)\n",
    "print(X.shape)"
   ]
  },
  {
   "cell_type": "code",
   "execution_count": 38,
   "id": "mounted-trailer",
   "metadata": {},
   "outputs": [],
   "source": [
    "from sklearn.metrics.pairwise import cosine_similarity\n",
    "import numpy as np\n",
    "cosine_sim = cosine_similarity(X,X)"
   ]
  },
  {
   "cell_type": "code",
   "execution_count": 39,
   "id": "actual-lesson",
   "metadata": {},
   "outputs": [],
   "source": [
    "sum_rows_cosine_sim = np.sum(cosine_sim,axis=1)"
   ]
  },
  {
   "cell_type": "code",
   "execution_count": 40,
   "id": "whole-monitor",
   "metadata": {},
   "outputs": [],
   "source": [
    "dict_cosine_sim = {}\n",
    "for i in range(len(y_train)+len(y_dev),sum_rows_cosine_sim.shape[0]):\n",
    "    dict_cosine_sim[i] = sum_rows_cosine_sim[i]"
   ]
  },
  {
   "cell_type": "code",
   "execution_count": 41,
   "id": "herbal-square",
   "metadata": {},
   "outputs": [],
   "source": [
    "sorted_dict = dict(sorted(dict_cosine_sim.items(), key=lambda item: item[1],reverse=True))"
   ]
  },
  {
   "cell_type": "code",
   "execution_count": 42,
   "id": "exterior-mainstream",
   "metadata": {},
   "outputs": [],
   "source": [
    "from itertools import islice\n",
    "\n",
    "def take(n, iterable):\n",
    "    \"Return first n items of the iterable as a list\"\n",
    "    return list(islice(iterable, n))\n",
    "\n",
    "n_items = take(200, sorted_dict.items())"
   ]
  },
  {
   "cell_type": "code",
   "execution_count": 43,
   "id": "activated-sculpture",
   "metadata": {},
   "outputs": [],
   "source": [
    "dict_key_dissmilar={}\n",
    "\n",
    "for key,value in n_items:\n",
    "    similar_values = cosine_sim[key]\n",
    "    count_dissimilar_labels = 0\n",
    "    count_similar_labels=0\n",
    "    key_label = total_labels[key]\n",
    "    for i in range(len(similar_values)):\n",
    "        if cosine_sim[key][i]>0:\n",
    "            if key_label == total_labels[i]:\n",
    "                count_similar_labels+=1\n",
    "            else:\n",
    "                count_dissimilar_labels+=1\n",
    "    diff = count_dissimilar_labels-count_similar_labels\n",
    "    dict_key_dissmilar[key] = diff"
   ]
  },
  {
   "cell_type": "code",
   "execution_count": 44,
   "id": "orange-branch",
   "metadata": {},
   "outputs": [
    {
     "name": "stdout",
     "output_type": "stream",
     "text": [
      "{4595: 199, 4770: 133, 4651: 128, 4660: 122, 4892: 118, 4126: 109, 4946: 108, 4558: 107, 4062: 96, 4217: 94, 4155: 88, 4510: 88, 4882: 82, 4152: 81, 4079: 80, 4684: 78, 4291: 78, 4075: 76, 4183: 74, 4735: 72, 4826: 72, 4675: 71, 4580: 70, 4052: 69, 4263: 68, 4715: 67, 4457: 65, 4743: 65, 4057: 59, 4176: 49, 4586: 48, 4289: 42, 4218: 42, 4387: 34, 4275: 34, 4148: 32, 4193: 29, 4261: 24, 4276: 24, 4426: 23, 4420: 21, 4127: 21, 4645: 21, 4005: 21, 4520: 18, 4436: 15, 4225: 11, 4054: 10, 4904: 6, 4624: 6, 4451: 6, 4825: 5, 4596: 5, 4671: 4, 4598: 3, 4517: -2, 4133: -2, 4163: -9, 4543: -9, 4606: -9, 4177: -10, 4046: -12, 4080: -13, 4555: -13, 4889: -16, 4028: -17, 4271: -17, 4114: -17, 4884: -19, 4537: -23, 4599: -23, 4924: -24, 4774: -25, 4453: -25, 4898: -26, 4082: -27, 4167: -30, 4878: -30, 4061: -30, 4571: -31, 4816: -33, 4051: -34, 4565: -35, 4030: -43, 4356: -44, 4064: -46, 4347: -49, 4938: -50, 4456: -50, 4186: -50, 4696: -51, 4752: -52, 4025: -58, 4641: -60, 4917: -60, 4307: -62, 4858: -63, 4033: -66, 4765: -67, 4243: -67, 4870: -69, 4562: -69, 4045: -71, 4338: -71, 4828: -71, 4010: -72, 4921: -72, 4354: -73, 4245: -73, 4875: -73, 4570: -74, 4742: -74, 4922: -74, 4364: -75, 4288: -76, 4450: -76, 4632: -77, 4209: -77, 4567: -77, 4550: -77, 4846: -77, 4013: -78, 4793: -80, 4106: -82, 4802: -82, 4634: -82, 4268: -83, 4839: -83, 4515: -84, 4000: -86, 4226: -87, 4128: -87, 4513: -87, 4398: -87, 4811: -89, 4419: -95, 4940: -96, 4320: -97, 4534: -99, 4516: -100, 4615: -100, 4441: -100, 4219: -100, 4776: -102, 4266: -102, 4214: -103, 4796: -104, 4782: -104, 4578: -104, 4237: -105, 4820: -106, 4713: -106, 4083: -108, 4368: -108, 4295: -108, 4042: -110, 4823: -112, 4618: -112, 4568: -118, 4777: -119, 4831: -119, 4495: -120, 4718: -126, 4482: -127, 4341: -128, 4736: -129, 4853: -132, 4640: -134, 4198: -135, 4647: -138, 4773: -139, 4643: -141, 4666: -141, 4171: -144, 4293: -144, 4244: -145, 4890: -145, 4388: -147, 4639: -149, 4142: -153, 4860: -156, 4900: -167, 4358: -168, 4833: -178, 4006: -181, 4378: -182, 4151: -194, 4001: -201, 4363: -204, 4273: -208, 4505: -212, 4297: -214, 4682: -217, 4903: -224, 4208: -241, 4049: -241, 4283: -242, 4470: -256, 4881: -258, 4282: -268}\n"
     ]
    }
   ],
   "source": [
    "sorted_key_dict = dict(sorted(dict_key_dissmilar.items(), key=lambda item: item[1],reverse=True))\n",
    "print(sorted_key_dict)"
   ]
  },
  {
   "cell_type": "code",
   "execution_count": 45,
   "id": "directed-rainbow",
   "metadata": {},
   "outputs": [],
   "source": [
    "n_key_items = take(50, sorted_key_dict.items())"
   ]
  },
  {
   "cell_type": "code",
   "execution_count": 46,
   "id": "fundamental-airfare",
   "metadata": {},
   "outputs": [
    {
     "name": "stdout",
     "output_type": "stream",
     "text": [
      "4595 [('OFF', 243)]\n",
      "4770 [('OFF', 205)]\n",
      "4651 [('OFF', 219)]\n",
      "4660 [('NOT', 442)]\n",
      "4892 [('OFF', 208)]\n",
      "4126 [('OFF', 273)]\n",
      "4946 [('OFF', 492)]\n",
      "4558 [('NOT', 445)]\n",
      "4062 [('NOT', 496)]\n",
      "4217 [('NOT', 376)]\n",
      "4155 [('NOT', 403)]\n",
      "4510 [('NOT', 388)]\n",
      "4882 [('NOT', 369)]\n",
      "4152 [('NOT', 408)]\n",
      "4079 [('NOT', 343)]\n",
      "4684 [('NOT', 515)]\n",
      "4291 [('NOT', 408)]\n",
      "4075 [('NOT', 259)]\n",
      "4183 [('NOT', 402)]\n",
      "4735 [('NOT', 551)]\n",
      "4826 [('NOT', 396)]\n",
      "4675 [('NOT', 409)]\n",
      "4580 [('NOT', 355)]\n",
      "4052 [('NOT', 243)]\n",
      "4263 [('NOT', 367)]\n",
      "4715 [('NOT', 337)]\n",
      "4457 [('OFF', 261)]\n",
      "4743 [('NOT', 386)]\n",
      "4057 [('NOT', 415)]\n",
      "4176 [('NOT', 353)]\n",
      "4586 [('NOT', 196)]\n",
      "4289 [('NOT', 182)]\n",
      "4218 [('OFF', 228)]\n",
      "4387 [('OFF', 296)]\n",
      "4275 [('NOT', 248)]\n",
      "4148 [('NOT', 353)]\n",
      "4193 [('NOT', 364)]\n",
      "4261 [('NOT', 523)]\n",
      "4276 [('NOT', 268)]\n",
      "4426 [('OFF', 244)]\n",
      "4420 [('NOT', 278)]\n",
      "4127 [('NOT', 207)]\n",
      "4645 [('NOT', 347)]\n",
      "4005 [('NOT', 245)]\n",
      "4520 [('NOT', 351)]\n",
      "4436 [('NOT', 345)]\n",
      "4225 [('OFF', 225)]\n",
      "4054 [('OFF', 214)]\n",
      "4904 [('NOT', 223)]\n",
      "4624 [('NOT', 284)]\n"
     ]
    }
   ],
   "source": [
    "from collections import Counter\n",
    "dict_key_dissmilar_label_count={}\n",
    "for key,value in n_key_items:\n",
    "    dissimilar_labels=[]\n",
    "    similar_values = cosine_sim[key]\n",
    "    key_label = total_labels[key]\n",
    "    for i in range(len(similar_values)):\n",
    "        if cosine_sim[key][i]>0:\n",
    "            if key_label != total_labels[i]:\n",
    "                dissimilar_labels.append(total_labels[i])\n",
    "    counted = Counter(dissimilar_labels)\n",
    "    most_common_counts = counted.most_common()\n",
    "    dict_key_dissmilar_label_count[key] = most_common_counts\n",
    "    \n",
    "for key,value in dict_key_dissmilar_label_count.items():\n",
    "    print(key,value)"
   ]
  },
  {
   "cell_type": "code",
   "execution_count": 47,
   "id": "adverse-writer",
   "metadata": {},
   "outputs": [],
   "source": [
    "\n",
    "qa_data = []\n",
    "qa_labels=[]\n",
    "for key,value in n_key_items:\n",
    "    if value>0:\n",
    "        qa_data.append(total_sentences[key])\n",
    "        qa_labels.append(total_labels[key])\n",
    "    \n",
    "qa_df = pd.DataFrame(zip(qa_data,qa_labels),columns=['qa_data','qa_labels'])\n",
    "qa_df.to_csv('malayalam_hasoc_qa.tsv',sep='\\t',index=None)"
   ]
  },
  {
   "cell_type": "code",
   "execution_count": null,
   "id": "introductory-johnston",
   "metadata": {},
   "outputs": [],
   "source": []
  }
 ],
 "metadata": {
  "kernelspec": {
   "display_name": "py3_env",
   "language": "python",
   "name": "py3_env"
  },
  "language_info": {
   "codemirror_mode": {
    "name": "ipython",
    "version": 3
   },
   "file_extension": ".py",
   "mimetype": "text/x-python",
   "name": "python",
   "nbconvert_exporter": "python",
   "pygments_lexer": "ipython3",
   "version": "3.6.12"
  }
 },
 "nbformat": 4,
 "nbformat_minor": 5
}
